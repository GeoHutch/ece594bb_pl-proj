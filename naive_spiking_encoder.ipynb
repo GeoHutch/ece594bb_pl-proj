{
 "cells": [
  {
   "cell_type": "code",
   "execution_count": 1,
   "id": "89247bfb-4bd7-4422-8ac1-908683e6261b",
   "metadata": {},
   "outputs": [],
   "source": [
    "%matplotlib inline\n",
    "\n",
    "from urllib.request import urlretrieve\n",
    "\n",
    "import matplotlib.pyplot as plt\n",
    "import nengo\n",
    "from nengo import spa\n",
    "import numpy as np\n",
    "import tensorflow as tf\n",
    "\n",
    "import nengo_dl\n",
    "\n",
    "from scipy.signal import decimate"
   ]
  },
  {
   "cell_type": "code",
   "execution_count": 2,
   "id": "b0ff00de-a32c-4f94-859f-bf1ef0e33e5a",
   "metadata": {},
   "outputs": [],
   "source": [
    "from prophesee.io.psee_loader import PSEELoader\n",
    "\n",
    "import pathlib\n",
    "from glob import glob"
   ]
  },
  {
   "cell_type": "code",
   "execution_count": 3,
   "id": "2b598578-d2dc-46ce-a2eb-be0901d03bd7",
   "metadata": {},
   "outputs": [],
   "source": [
    "delta_t = 10000\n",
    "n = 75\n",
    "skip = 100"
   ]
  },
  {
   "cell_type": "code",
   "execution_count": 4,
   "id": "c76d48d5-4e7d-4a0b-8ed7-1aba9ed14467",
   "metadata": {},
   "outputs": [],
   "source": [
    "vids = map(PSEELoader, glob(\"Prophesee_Dataset_n_cars/n-cars_train/cars/*_td.dat\"))\n",
    "# height, width = vid.get_size()\n",
    "height, width = 120, 120\n",
    "# vid.seek_time(skip)\n",
    "event_seqs = [next(vids).load_delta_t(delta_t) for _ in range(n)]\n",
    "# N = len(event_seqs)"
   ]
  },
  {
   "cell_type": "code",
   "execution_count": 5,
   "id": "c35da525-7a09-4e75-a4c4-6ddbc2333720",
   "metadata": {},
   "outputs": [],
   "source": [
    "dat = np.zeros((n, delta_t, 30, 30),dtype=np.int8)\n",
    "for i,block in enumerate(event_seqs):\n",
    "    for ev in block:\n",
    "        dat[i,ev[0],ev[1]//4,ev[2]//4] = ev[3]\n",
    "# for ev in events:\n",
    "#     dat[ev[0],ev[1],ev[2]] = ev[3]\n",
    "\n",
    "# dat = decimate(dat,4,axis=2)\n",
    "# dat = decimate(dat,4,axis=3)\n",
    "\n",
    "train_data = dat[0:60,:,:,:]\n",
    "test_data  = dat[60:75,:,:,:]\n",
    "\n",
    "train_data = train_data.reshape((train_data.shape[0], train_data.shape[1], -1))\n",
    "test_data = test_data.reshape((test_data.shape[0], test_data.shape[1], -1))\n"
   ]
  },
  {
   "cell_type": "code",
   "execution_count": 6,
   "id": "19d1cc58-ba24-4e5b-ad0c-87a75e8c4461",
   "metadata": {},
   "outputs": [],
   "source": [
    "\n",
    "\n",
    "with nengo.Network() as auto_net:\n",
    "    n_in = train_data.shape[2]\n",
    "    n_hidden=64\n",
    "    neuron_type = nengo.LIF(amplitude=0.01)\n",
    "    \n",
    "    # input\n",
    "    nengo_a = nengo.Node(np.zeros(n_in))\n",
    "\n",
    "    # first layer\n",
    "    nengo_b = nengo.Ensemble(n_hidden, 1, neuron_type=neuron_type)\n",
    "    nengo.Connection(nengo_a, nengo_b.neurons, transform=nengo_dl.dists.Glorot())\n",
    "\n",
    "    # second layer\n",
    "    nengo_c = nengo.Ensemble(n_in, 1, neuron_type=neuron_type)\n",
    "    nengo.Connection(\n",
    "        nengo_b.neurons, nengo_c.neurons, transform=nengo_dl.dists.Glorot()\n",
    "    )\n",
    "\n",
    "    # probes are used to collect data from the network\n",
    "    p_c = nengo.Probe(nengo_c.neurons)\n",
    "    p_b = nengo.Probe(nengo_b.neurons)\n",
    "    \n",
    "    "
   ]
  },
  {
   "cell_type": "code",
   "execution_count": 7,
   "id": "3530e484-d0ce-4391-a08e-0236c981c1aa",
   "metadata": {},
   "outputs": [
    {
     "name": "stdout",
     "output_type": "stream",
     "text": [
      "Build finished in 0:00:00                                                      \n",
      "Optimization finished in 0:00:00                                               \n",
      "Construction finished in 0:00:00                                               \n",
      "Constructing graph: build stage finished in 0:00:00                            \r"
     ]
    },
    {
     "name": "stderr",
     "output_type": "stream",
     "text": [
      "/home/hutch/.pyenv/versions/miniconda3-4.7.12/envs/spiking_encoders/lib/python3.9/site-packages/nengo_dl/simulator.py:1024: UserWarning: Running for one timestep, but the network contains synaptic filters (which will introduce at least a one-timestep delay); did you mean to set synapse=None?\n",
      "  warnings.warn(\n"
     ]
    },
    {
     "name": "stdout",
     "output_type": "stream",
     "text": [
      "(8, 1, 900) (8, 1, 64)\n"
     ]
    }
   ],
   "source": [
    "minibatch_size = 8\n",
    "\n",
    "with nengo_dl.Simulator(network=auto_net, minibatch_size=minibatch_size) as sim:\n",
    "    out = sim.predict(np.ones((minibatch_size, 1, n_in)))\n",
    "    print(out[p_c].shape,out[p_b].shape)"
   ]
  },
  {
   "cell_type": "code",
   "execution_count": 8,
   "id": "487580af-ae7d-421e-b6cd-7ae384edffe9",
   "metadata": {},
   "outputs": [
    {
     "name": "stdout",
     "output_type": "stream",
     "text": [
      "Build finished in 0:00:00                                                      \n",
      "Optimization finished in 0:00:00                                               \n",
      "Construction finished in 0:00:00                                               \n"
     ]
    },
    {
     "name": "stderr",
     "output_type": "stream",
     "text": [
      "/home/hutch/.pyenv/versions/miniconda3-4.7.12/envs/spiking_encoders/lib/python3.9/site-packages/nengo_dl/simulator.py:1921: UserWarning: Number of elements in input data (60) is not evenly divisible by Simulator.minibatch_size (8); input data will be truncated.\n",
      "  warnings.warn(\n",
      "/home/hutch/.pyenv/versions/miniconda3-4.7.12/envs/spiking_encoders/lib/python3.9/site-packages/nengo_dl/simulator.py:1765: UserWarning: Number of elements (1) in ['ndarray'] does not match number of Probes (2); consider using an explicit input dictionary in this case, so that the assignment of data to objects is unambiguous.\n",
      "  warnings.warn(\n"
     ]
    },
    {
     "name": "stdout",
     "output_type": "stream",
     "text": [
      "Epoch 1/5\n",
      "7/7 [==============================] - 112s 16s/step - loss: 1.3115 - probe_loss: 1.3115 - probe_1_loss: 0.0000e+00\n",
      "Epoch 2/5\n",
      "7/7 [==============================] - 108s 15s/step - loss: 0.3084 - probe_loss: 0.3084 - probe_1_loss: 0.0000e+00\n",
      "Epoch 3/5\n",
      "7/7 [==============================] - 106s 15s/step - loss: 0.0582 - probe_loss: 0.0582 - probe_1_loss: 0.0000e+00\n",
      "Epoch 4/5\n",
      "7/7 [==============================] - 105s 15s/step - loss: 0.0053 - probe_loss: 0.0053 - probe_1_loss: 0.0000e+00\n",
      "Epoch 5/5\n",
      "7/7 [==============================] - 105s 15s/step - loss: 8.2041e-04 - probe_loss: 8.2041e-04 - probe_1_loss: 0.0000e+00\n",
      "|             Constructing graph: build stage (0%)             | ETA:  --:--:--"
     ]
    },
    {
     "name": "stderr",
     "output_type": "stream",
     "text": [
      "/home/hutch/.pyenv/versions/miniconda3-4.7.12/envs/spiking_encoders/lib/python3.9/site-packages/nengo_dl/simulator.py:1921: UserWarning: Number of elements in input data (15) is not evenly divisible by Simulator.minibatch_size (8); input data will be truncated.\n",
      "  warnings.warn(\n"
     ]
    },
    {
     "name": "stdout",
     "output_type": "stream",
     "text": [
      "1/1 [==============================] - 6s 6s/step - loss: 0.4359 - probe_loss: 0.4359 - probe_1_loss: 0.0000e+00\n"
     ]
    }
   ],
   "source": [
    "with nengo_dl.Simulator(auto_net, minibatch_size=minibatch_size) as sim:\n",
    "    sim.compile(optimizer=tf.optimizers.RMSprop(1e-3), loss=tf.losses.mse)\n",
    "\n",
    "    # run training loop\n",
    "    sim.fit(train_data, train_data, epochs=5)\n",
    "\n",
    "    # evaluate performance on test set\n",
    "    sim.evaluate(test_data, test_data)\n"
   ]
  },
  {
   "cell_type": "code",
   "execution_count": null,
   "id": "58a71ff0-7070-47d7-ad1c-4284ea64626d",
   "metadata": {},
   "outputs": [],
   "source": []
  }
 ],
 "metadata": {
  "kernelspec": {
   "display_name": "Python 3 (ipykernel)",
   "language": "python",
   "name": "python3"
  },
  "language_info": {
   "codemirror_mode": {
    "name": "ipython",
    "version": 3
   },
   "file_extension": ".py",
   "mimetype": "text/x-python",
   "name": "python",
   "nbconvert_exporter": "python",
   "pygments_lexer": "ipython3",
   "version": "3.9.10"
  }
 },
 "nbformat": 4,
 "nbformat_minor": 5
}
